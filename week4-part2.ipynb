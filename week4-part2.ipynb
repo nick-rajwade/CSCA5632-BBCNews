{
 "cells": [
  {
   "cell_type": "markdown",
   "metadata": {
    "deletable": false,
    "editable": false,
    "nbgrader": {
     "cell_type": "markdown",
     "checksum": "32e45eb6bcc8c7d1db2d846fc120d426",
     "grade": false,
     "grade_id": "cell-e212d9fd41f03b18",
     "locked": true,
     "schema_version": 3,
     "solution": false,
     "task": false
    }
   },
   "source": [
    "# CSCA5632 Part 2: Limitation(s) of sklearn’s non-negative matrix factorization library.\n",
    "\n",
    "#### 1. Load the movie ratings data (as in the HW3-recommender-system) and use matrix factorization technique(s) and predict the missing ratings from the test data. Measure the RMSE. You should use sklearn library. [10 pts]\n",
    "\n",
    "#### 2. Discuss the results and why sklearn's non-negative matrix facorization library did not work well compared to simple baseline or similarity-based methods we’ve done in Module 3. Can you suggest a way(s) to fix it? [10 pts]\n",
    "\n"
   ]
  },
  {
   "metadata": {},
   "cell_type": "markdown",
   "source": "### 1. Load movie ratings data"
  },
  {
   "cell_type": "code",
   "metadata": {
    "deletable": false,
    "editable": false,
    "nbgrader": {
     "cell_type": "code",
     "checksum": "069f66d81507ea520c1fe5098352b437",
     "grade": false,
     "grade_id": "cell-ea989c7a4eb25b70",
     "locked": true,
     "schema_version": 3,
     "solution": false,
     "task": false
    },
    "ExecuteTime": {
     "end_time": "2024-06-14T08:31:48.248733Z",
     "start_time": "2024-06-14T08:31:48.244154Z"
    }
   },
   "source": [
    "import pandas as pd\n",
    "import matplotlib.pyplot as plt\n",
    "import numpy as np\n",
    "import time\n",
    "from sklearn.model_selection import train_test_split\n",
    "from scipy.sparse import coo_matrix, csr_matrix\n",
    "from scipy.spatial.distance import jaccard, cosine \n",
    "from pytest import approx"
   ],
   "outputs": [],
   "execution_count": 6
  },
  {
   "cell_type": "code",
   "metadata": {
    "deletable": false,
    "editable": false,
    "nbgrader": {
     "cell_type": "code",
     "checksum": "cdeafa5886528c497f33ffde32d9b7bb",
     "grade": false,
     "grade_id": "cell-476e59a408937946",
     "locked": true,
     "schema_version": 3,
     "solution": false,
     "task": false
    },
    "ExecuteTime": {
     "end_time": "2024-06-14T08:31:48.603472Z",
     "start_time": "2024-06-14T08:31:48.406313Z"
    }
   },
   "source": [
    "MV_users = pd.read_csv('data/users.csv')\n",
    "MV_movies = pd.read_csv('data/movies.csv')\n",
    "train = pd.read_csv('data/train.csv')\n",
    "test = pd.read_csv('data/test.csv')"
   ],
   "outputs": [],
   "execution_count": 7
  },
  {
   "cell_type": "code",
   "metadata": {
    "deletable": false,
    "editable": false,
    "nbgrader": {
     "cell_type": "code",
     "checksum": "a0ddf339d993a9dfb1046fa9c762eb28",
     "grade": false,
     "grade_id": "cell-9dea5c452642998d",
     "locked": true,
     "schema_version": 3,
     "solution": false,
     "task": false
    },
    "ExecuteTime": {
     "end_time": "2024-06-14T08:31:48.608821Z",
     "start_time": "2024-06-14T08:31:48.604488Z"
    }
   },
   "source": [
    "from collections import namedtuple\n",
    "Data = namedtuple('Data', ['users','movies','train','test'])\n",
    "data = Data(MV_users, MV_movies, train, test)"
   ],
   "outputs": [],
   "execution_count": 8
  },
  {
   "metadata": {},
   "cell_type": "markdown",
   "source": "#### 1.1 Prepare data for NMF"
  },
  {
   "metadata": {
    "ExecuteTime": {
     "end_time": "2024-06-14T08:31:49.350892Z",
     "start_time": "2024-06-14T08:31:48.852794Z"
    }
   },
   "cell_type": "code",
   "source": [
    "# Create a rating matrix\n",
    "user_list = list(data.users['uID'])\n",
    "movie_list = list(data.movies['mID'])\n",
    "genres = list(data.movies.columns.drop(['mID', 'title', 'year']))\n",
    "# Create a dictionary to map user/movie ID to index\n",
    "mid2idx = dict(zip(data.movies.mID, list(range(len(data.movies)))))\n",
    "uid2idx = dict(zip(data.users.uID, list(range(len(data.users)))))\n",
    "\n",
    "# Create a rating matrix using the train data in a sparse matrix format\n",
    "ind_movie = [mid2idx[x] for x in data.train.mID]\n",
    "ind_user = [uid2idx[x] for x in data.train.uID]\n",
    "train_rating = list(data.train.rating)\n",
    "rating_matrix = np.array(coo_matrix((train_rating, (ind_user, ind_movie)), shape=(len(user_list), len(movie_list))).toarray())"
   ],
   "outputs": [],
   "execution_count": 9
  },
  {
   "metadata": {},
   "cell_type": "markdown",
   "source": "#### 1.2 Evaluate NMF model performance"
  },
  {
   "metadata": {
    "ExecuteTime": {
     "end_time": "2024-06-14T08:31:58.135998Z",
     "start_time": "2024-06-14T08:31:49.972127Z"
    }
   },
   "cell_type": "code",
   "source": [
    "from sklearn.decomposition import NMF\n",
    "from sklearn.metrics import mean_squared_error\n",
    "\n",
    "# train NMF model\n",
    "model = NMF(n_components=20, init='random', random_state=0, max_iter=1000)\n",
    "W = model.fit_transform(rating_matrix)\n",
    "H = model.components_\n",
    "\n",
    "# predict the missing ratings\n",
    "rating_pred = np.dot(W, H)\n",
    "\n",
    "# predict the missing ratings in the test data\n",
    "ind_movie_test = [mid2idx[x] for x in data.test.mID]\n",
    "ind_user_test = [uid2idx[x] for x in data.test.uID]\n",
    "test_rating = list(data.test.rating)\n",
    "rating_pred_test = rating_pred[ind_user_test, ind_movie_test]\n",
    "\n",
    "# calculate RMSE\n",
    "rmse = np.sqrt(mean_squared_error(test_rating, rating_pred_test))\n",
    "print(f\"RMSE: {rmse}\")"
   ],
   "outputs": [
    {
     "name": "stdout",
     "output_type": "stream",
     "text": [
      "RMSE: 2.861970909347182\n"
     ]
    }
   ],
   "execution_count": 10
  },
  {
   "cell_type": "markdown",
   "metadata": {
    "deletable": false,
    "editable": false,
    "nbgrader": {
     "cell_type": "markdown",
     "checksum": "1fefd36b83885e756dd5056f3e3fdf52",
     "grade": false,
     "grade_id": "cell-f384dc5e284c5165",
     "locked": true,
     "schema_version": 3,
     "solution": false,
     "task": false
    }
   },
   "source": [
    "### 2. Discuss the results and why sklearn's non-negative matrix facorization library did not work well compared to simple baseline or similarity-based methods we’ve done in Module 3. Can you suggest a way(s) to fix it?\n",
    "\n",
    "\n",
    "\n",
    "| Method                                          |        RMSE        |\n",
    "|:------------------------------------------------|:------------------:|\n",
    "| Baseline, $Y_p$=3                               | 1.2585510334053043 |\n",
    "| Baseline, $Y_p=\\mu_u$                           | 1.0352910334228647 |\n",
    "| Content based, item-item                        | 1.0128116783754684 |\n",
    "| Collaborative, cosine                           | 1.0263081874204125 |\n",
    "| Collaborative, jaccard, $M_r\\geq 3$             | 0.9819058692126349 |\n",
    "| Collaborative, jaccard, $M_r\\geq 1$             | 0.991363571262366  |\n",
    "| Collaborative, jaccard, $M_r$                   | 0.9509126236828654 |\n",
    "| Non-Negative Matrix Factorization (sklearn NMF) | 2.861970909347182  |\n",
    "\n",
    "The results of the comparison indicate that non-negative matrix factorization (NMF) using sklearn performed significantly worse (RMSE = 2.862) than both baseline and similarity-based methods. In contrast, the best performance was observed with a collaborative filtering approach using the Jaccard similarity metric (RMSE = 0.951). The poor performance of NMF can be attributed to the following limitations:\n",
    "- Initialization: NMF in sklearn uses random initialization, which can lead to suboptimal solutions. This can result in slow convergence and poor performance.\n",
    "- Rank selection: The choice of the number of latent factors (rank) in NMF can significantly impact the model's performance. In this case, we used 20 components, which may not be optimal for the dataset.\n",
    "- Sparsity: NMF is sensitive to the sparsity of the data. The movie ratings dataset is sparse, which can make it challenging for NMF to capture the underlying patterns effectively.\n",
    "- Non-negativity constraint: The non-negativity constraint in NMF can limit the expressiveness of the model. In some cases, negative values may be necessary to accurately represent the data.\n",
    "- Hyperparameters: The choice of hyperparameters in NMF, such as the regularization term, can affect the model's performance. Tuning these hyperparameters can be challenging and may require extensive experimentation.\n",
    "\n",
    "To improve the performance of NMF on the movie ratings dataset, the following strategies can be considered:\n",
    "- Better initialization: Instead of random initialization, using a more informed initialization strategy, such as SVD-based initialization, can help NMF converge faster and achieve better results.\n",
    "- Hyperparameter tuning: Systematically tuning the hyperparameters of NMF, such as the regularization term and the number of latent factors, can help optimize the model's performance.\n",
    "- Regularization: Incorporating regularization techniques, such as L1 or L2 regularization, can help prevent overfitting and improve the generalization of the model.\n",
    "- Hybrid approaches: Combining NMF with other collaborative filtering or content-based methods can leverage the strengths of different techniques and improve the overall performance."
   ]
  },
  {
   "metadata": {},
   "cell_type": "code",
   "outputs": [],
   "execution_count": null,
   "source": ""
  }
 ],
 "metadata": {
  "kernelspec": {
   "display_name": "Python 3",
   "language": "python",
   "name": "python3"
  },
  "language_info": {
   "codemirror_mode": {
    "name": "ipython",
    "version": 3
   },
   "file_extension": ".py",
   "mimetype": "text/x-python",
   "name": "python",
   "nbconvert_exporter": "python",
   "pygments_lexer": "ipython3",
   "version": "3.7.6"
  }
 },
 "nbformat": 4,
 "nbformat_minor": 4
}
